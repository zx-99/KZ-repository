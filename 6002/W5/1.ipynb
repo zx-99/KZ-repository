{
 "cells": [
  {
   "cell_type": "code",
   "execution_count": null,
   "metadata": {},
   "outputs": [],
   "source": [
    "import numpy as np\n",
    "\n",
    "a = np.array([10, 2, 5])\n",
    "\n",
    "print(a)\n",
    "print(type(a))\n",
    "print(a.size)\n",
    "print(a.dtype)"
   ]
  },
  {
   "cell_type": "code",
   "execution_count": null,
   "metadata": {},
   "outputs": [],
   "source": [
    "import numpy as np\n",
    "\n",
    "a = np.array([10, 2, 5])\n",
    "\n",
    "print(a)\n",
    "print(a.dtype)\n",
    "\n",
    "b =np.array([1.0, 2.0, 3.0])\n",
    "print(b.dtype)"
   ]
  },
  {
   "cell_type": "code",
   "execution_count": 3,
   "metadata": {},
   "outputs": [
    {
     "name": "stdout",
     "output_type": "stream",
     "text": [
      "2\n"
     ]
    }
   ],
   "source": [
    "import  numpy as np\n",
    "\n",
    "a = np.array([10, 2, 5])\n",
    "print(a.min())"
   ]
  },
  {
   "cell_type": "code",
   "execution_count": 6,
   "metadata": {},
   "outputs": [
    {
     "name": "stdout",
     "output_type": "stream",
     "text": [
      "[ True  True  True]\n",
      "True\n",
      "True\n"
     ]
    }
   ],
   "source": [
    "import  numpy as np\n",
    "\n",
    "a = np.array([10, 2, 5])\n",
    "b = np.array([10.0001, 2.00002, 5.0000003])\n",
    "\n",
    "print(a == a)\n",
    "print(np.array_equal(a, a))\n",
    "print(np.allclose(a, b))"
   ]
  },
  {
   "cell_type": "code",
   "execution_count": 74,
   "metadata": {},
   "outputs": [
    {
     "name": "stdout",
     "output_type": "stream",
     "text": [
      "[0.  0.2 0.4 0.6 0.8 0.9 1. ]\n"
     ]
    }
   ],
   "source": [
    "import  numpy as np\n",
    "\n",
    "x = np.array([30.0, 40.0, 50.0, 60.0, 70.0, 75.0, 80.0])\n",
    "\n",
    "x_min = x.min()\n",
    "x_max = x.max()\n",
    "\n",
    "x = (x - x_min)/(x_max - x_min)\n",
    "print(np.around(x,decimals=2))"
   ]
  },
  {
   "cell_type": "code",
   "execution_count": 75,
   "metadata": {},
   "outputs": [
    {
     "name": "stdout",
     "output_type": "stream",
     "text": [
      "[[1 4 5 7]\n",
      " [2 8 6 3]\n",
      " [3 1 4 9]]\n",
      "(3, 4)\n"
     ]
    }
   ],
   "source": [
    "import numpy as np\n",
    "\n",
    "matrix = np.array([\n",
    "    [1, 4, 5, 7],\n",
    "    [2, 8, 6, 3],\n",
    "    [3, 1, 4, 9]\n",
    "])\n",
    "\n",
    "print(matrix)\n",
    "print(matrix.shape)"
   ]
  },
  {
   "cell_type": "code",
   "execution_count": 76,
   "metadata": {},
   "outputs": [
    {
     "name": "stdout",
     "output_type": "stream",
     "text": [
      "3.2\n",
      "[3.2 2.3 7.8]\n"
     ]
    }
   ],
   "source": [
    "import numpy as np\n",
    "\n",
    "#      index:  0    1    2    3    4    5   6  \n",
    "x = np.array([5.3, 8.2, 3.2, 2.3, 7.8, 9.2, 1.5])\n",
    "print(x[2])\n",
    "print(x[2:5])"
   ]
  },
  {
   "cell_type": "code",
   "execution_count": 110,
   "metadata": {},
   "outputs": [
    {
     "name": "stdout",
     "output_type": "stream",
     "text": [
      "[[30 31 32]\n",
      " [40 41 42]]\n"
     ]
    }
   ],
   "source": [
    "import numpy as np\n",
    "\n",
    "#  col index:   0   1   2   3   4\n",
    "A = np.array([[10, 11, 12, 13, 14],  # 0  <-row index\n",
    "              [20, 21, 22, 23, 24],  # 1\n",
    "              [30, 31, 32, 33, 34],  # 2\n",
    "              [40, 41, 42, 43, 44],  # 3\n",
    "              [50, 51, 52, 53, 54]]) # 4\n",
    "\n",
    "print(A[2:4, :3])"
   ]
  },
  {
   "cell_type": "code",
   "execution_count": 115,
   "metadata": {},
   "outputs": [
    {
     "data": {
      "text/plain": [
       "Text(0, 0.5, 'y')"
      ]
     },
     "execution_count": 115,
     "metadata": {},
     "output_type": "execute_result"
    },
    {
     "data": {
      "image/png": "[encoded data removed]",
      "text/plain": [
       "<Figure size 432x288 with 1 Axes>"
      ]
     },
     "metadata": {
      "needs_background": "light"
     },
     "output_type": "display_data"
    }
   ],
   "source": [
    "import numpy as np\n",
    "import matplotlib.pyplot as plt\n",
    "\n",
    "data = np.array([[0.99137472, 0.62668768],\n",
    "                 [0.61929683, 0.55787999],\n",
    "                 [0.32248451, 0.09159514],\n",
    "                 [0.18940894, 0.15220783],\n",
    "                 [0.37615794, 0.95461653],\n",
    "                 [0.07530961, 0.55673535],\n",
    "                 [0.43044392, 0.31281246],\n",
    "                 [0.13880016, 0.61504577],\n",
    "                 [0.88988453, 0.93897136],\n",
    "                 [0.05692771, 0.47849809],\n",
    "                 [0.91576478, 0.51501409],\n",
    "                 [0.79957965, 0.66122104],\n",
    "                 [0.0186724 , 0.69373583],\n",
    "                 [0.2267778 , 0.01740029],\n",
    "                 [0.58301937, 0.56976783]])\n",
    "\n",
    "plt.scatter(data[:,0],data[:,1])\n",
    "plt.title(\"Test data\")\n",
    "plt.xlabel(\"x\")\n",
    "plt.ylabel(\"y\")"
   ]
  },
  {
   "cell_type": "code",
   "execution_count": 116,
   "metadata": {},
   "outputs": [
    {
     "name": "stdout",
     "output_type": "stream",
     "text": [
      "[ 6 12]\n",
      "[ 2  6 10]\n"
     ]
    }
   ],
   "source": [
    "import numpy as np\n",
    "\n",
    "x = np.array([[0, 2],\n",
    "              [2, 4],\n",
    "              [4, 6]])\n",
    "\n",
    "print(x.sum(axis = 0)) # sum over each column\n",
    "print(x.sum(axis = 1)) # sum over each row"
   ]
  },
  {
   "cell_type": "code",
   "execution_count": 117,
   "metadata": {},
   "outputs": [
    {
     "name": "stdout",
     "output_type": "stream",
     "text": [
      "[-2  3  4  0 -3]\n",
      "[-2 -2 -3]\n"
     ]
    }
   ],
   "source": [
    "matrix = np.array([[1,  3,  4, 4, -2],\n",
    "                   [-2, 5, 10, 0,  4],\n",
    "                   [2,  6,  8, 7, -3]])\n",
    "\n",
    "print(matrix.min(axis=0)) #column min\n",
    "print(matrix.min(axis=1)) #row min"
   ]
  },
  {
   "cell_type": "code",
   "execution_count": 122,
   "metadata": {},
   "outputs": [
    {
     "name": "stdout",
     "output_type": "stream",
     "text": [
      "0.8449630233167131\n",
      "-0.5034939381988761\n",
      "5\n"
     ]
    }
   ],
   "source": [
    "print(np.random.rand()) # uniform\n",
    "print(np.random.randn()) # normal\n",
    "print(np.random.randint(1,10))"
   ]
  },
  {
   "cell_type": "code",
   "execution_count": 125,
   "metadata": {},
   "outputs": [
    {
     "name": "stdout",
     "output_type": "stream",
     "text": [
      "[[0.12 0.18 0.14 0.04 0.66]\n",
      " [0.5  0.77 0.34 0.57 0.24]\n",
      " [0.68 0.5  0.48 0.78 0.67]\n",
      " [0.52 0.11 0.77 0.28 0.83]\n",
      " [0.58 0.22 0.57 0.83 0.75]]\n",
      "[[ 0.73  0.09  0.44  0.66 -0.57]\n",
      " [-0.39  0.27  0.93  1.84  1.4 ]\n",
      " [ 0.68  0.74  1.97 -0.14 -0.22]\n",
      " [-0.96 -0.11 -1.4   0.48 -0.58]\n",
      " [-0.19  1.69  0.77  0.55  2.54]]\n",
      "[[3 1 2 2 2]\n",
      " [1 3 3 1 1]\n",
      " [2 2 3 1 4]\n",
      " [2 1 1 4 2]\n",
      " [1 3 2 4 1]]\n"
     ]
    }
   ],
   "source": [
    "print(np.random.rand(5, 5))\n",
    "print(np.random.randn(5, 5))\n",
    "print(np.random.randint(1, 5, size = (5,5)))"
   ]
  },
  {
   "cell_type": "code",
   "execution_count": null,
   "metadata": {},
   "outputs": [],
   "source": []
  },
  {
   "cell_type": "code",
   "execution_count": 136,
   "metadata": {},
   "outputs": [
    {
     "name": "stdout",
     "output_type": "stream",
     "text": [
      "[[ 1.62 -0.61 -0.53 -1.07  0.87]\n",
      " [-2.3   1.74 -0.76  0.32 -0.25]\n",
      " [ 1.46 -2.06 -0.32 -0.38  1.13]\n",
      " [-1.1  -0.17 -0.88  0.04  0.58]\n",
      " [-1.1   1.14  0.9   0.5   0.9 ]]\n"
     ]
    }
   ],
   "source": [
    "np.random.seed(1)\n",
    "print(np.random.randn(5,5))"
   ]
  },
  {
   "cell_type": "code",
   "execution_count": 137,
   "metadata": {},
   "outputs": [
    {
     "name": "stdout",
     "output_type": "stream",
     "text": [
      "[[0.55 0.72]\n",
      " [0.6  0.54]\n",
      " [0.42 0.65]]\n"
     ]
    }
   ],
   "source": [
    "np.random.seed(0)\n",
    "print(np.random.rand(3,2))"
   ]
  },
  {
   "cell_type": "code",
   "execution_count": null,
   "metadata": {},
   "outputs": [],
   "source": []
  }
 ],
 "metadata": {
  "interpreter": {
   "hash": "b0fa6594d8f4cbf19f97940f81e996739fb7646882a419484c72d19e05852a7e"
  },
  "kernelspec": {
   "display_name": "Python 3.9.9 64-bit",
   "language": "python",
   "name": "python3"
  },
  "language_info": {
   "codemirror_mode": {
    "name": "ipython",
    "version": 3
   },
   "file_extension": ".py",
   "mimetype": "text/x-python",
   "name": "python",
   "nbconvert_exporter": "python",
   "pygments_lexer": "ipython3",
   "version": "3.9.9"
  },
  "orig_nbformat": 4
 },
 "nbformat": 4,
 "nbformat_minor": 2
}
